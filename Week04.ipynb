{
 "cells": [
  {
   "cell_type": "code",
   "execution_count": 193,
   "metadata": {},
   "outputs": [],
   "source": [
    "# Import \n",
    "\n",
    "import arcpy\n",
    "from arcpy import env\n",
    "import os\n",
    "from arcpy import mp\n"
   ]
  },
  {
   "cell_type": "code",
   "execution_count": 194,
   "metadata": {},
   "outputs": [],
   "source": [
    "# Set the workspace\n",
    "\n",
    "env.workspace = r\"C:\\Mac\\Home\\Documents\\Modeling Geographical Objects\\Week 4\"  \n",
    "env.overwriteOutput = True"
   ]
  },
  {
   "cell_type": "code",
   "execution_count": 195,
   "metadata": {
    "scrolled": true
   },
   "outputs": [
    {
     "data": {
      "text/html": [
       "<div class='gpresult'><h2>Messages</h2><div id='messages'>Start Time: Wednesday, September 25, 2024 5:38:01 PM<br>Succeeded at Wednesday, September 25, 2024 5:38:02 PM (Elapsed Time: 1.06 seconds)<br></div><div id = 'default' /></div></div>"
      ],
      "text/plain": [
       "<Result 'county_layer'>"
      ]
     },
     "execution_count": 195,
     "metadata": {},
     "output_type": "execute_result"
    }
   ],
   "source": [
    "# Define paths to shapefile and dbf\n",
    "county_shapefile = r\"C:\\Mac\\Home\\Documents\\Modeling Geographical Objects\\Week 4\\Week 04 Tutorial Data\\TheCounties.shp\"\n",
    "county_dbf = r\"C:\\Mac\\Home\\Documents\\Modeling Geographical Objects\\Week 4\\Week 04 Tutorial Data\\CountyTable.dbf\"  \n",
    "\n",
    "# Create a feature layer from the shapefile\n",
    "arcpy.MakeFeatureLayer_management(county_shapefile, \"county_layer\")\n",
    "\n",
    "# Join the dbf file to the shapefile based on FIPS\n",
    "arcpy.AddJoin_management(\"county_layer\", \"FIPS\", county_dbf, \"FIPS\")"
   ]
  },
  {
   "cell_type": "code",
   "execution_count": 196,
   "metadata": {},
   "outputs": [
    {
     "data": {
      "text/html": [
       "<div class='gpresult'><h2>Messages</h2><div id='messages'>Start Time: Wednesday, September 25, 2024 5:38:02 PM<br>Succeeded at Wednesday, September 25, 2024 5:38:03 PM (Elapsed Time: 0.25 seconds)<br></div><div id = 'default' /></div></div>"
      ],
      "text/plain": [
       "<Result 'county_layer'>"
      ]
     },
     "execution_count": 196,
     "metadata": {},
     "output_type": "execute_result"
    }
   ],
   "source": [
    "# select my state of interest: PA\n",
    "state_name = 'Pennsylvania'\n",
    "arcpy.SelectLayerByAttribute_management(\"county_layer\", \"NEW_SELECTION\", \"TheCounties.STATE_NAME = '{}'\".format(state_name))\n",
    "\n",
    "# Exclude counties with missing into for d and r\n",
    "arcpy.SelectLayerByAttribute_management(\n",
    "    \"county_layer\", \n",
    "    \"SUBSET_SELECTION\",  # This refines the existing selection\n",
    "    \"NOT (d = 0 AND r = 0)\"\n",
    ")"
   ]
  },
  {
   "cell_type": "code",
   "execution_count": 197,
   "metadata": {},
   "outputs": [
    {
     "data": {
      "text/html": [
       "<div class='gpresult'><h2>Messages</h2><div id='messages'>Start Time: Wednesday, September 25, 2024 5:38:13 PM<br>Succeeded at Wednesday, September 25, 2024 5:38:15 PM (Elapsed Time: 2.52 seconds)<br></div><div id = 'default' /></div></div>"
      ],
      "text/plain": [
       "<Result 'county_layer_V2'>"
      ]
     },
     "execution_count": 197,
     "metadata": {},
     "output_type": "execute_result"
    }
   ],
   "source": [
    "# Define the output shapefile path for the export\n",
    "output_feature_class = r\"C:\\Mac\\Home\\Documents\\Modeling Geographical Objects\\Week 4\\Exported_County_Layer.shp\"\n",
    "\n",
    "# Export the joined data to a new shapefile (keeping both geometry and the joined fields)\n",
    "arcpy.FeatureClassToFeatureClass_conversion(\"county_layer\", r\"C:\\Mac\\Home\\Documents\\Modeling Geographical Objects\\Week 4\", \"Exported_County_Layer\")\n",
    "\n",
    "# Create a feature layer from the exported shapefile\n",
    "arcpy.MakeFeatureLayer_management(output_feature_class, \"county_layer_V2\")\n",
    "\n",
    "# Add the Vote_Marg field\n",
    "arcpy.AddField_management(\"county_layer_V2\", \"Vote_Marg\", \"DOUBLE\")\n",
    "\n",
    "# Calculate the vote margin using the exported fields (no more prefix issues)\n",
    "arcpy.CalculateField_management(\n",
    "    \"county_layer_V2\", \n",
    "    \"Vote_Marg\", \n",
    "    \"abs((!d! or 0) - (!r! or 0))\", \n",
    "    \"PYTHON3\"\n",
    ")\n"
   ]
  },
  {
   "cell_type": "code",
   "execution_count": 198,
   "metadata": {},
   "outputs": [
    {
     "data": {
      "text/html": [
       "<div class='gpresult'><h2>Messages</h2><div id='messages'>Start Time: Wednesday, September 25, 2024 5:38:17 PM<br>Succeeded at Wednesday, September 25, 2024 5:38:19 PM (Elapsed Time: 1.83 seconds)<br></div><div id = 'default' /></div></div>"
      ],
      "text/plain": [
       "<Result 'county_layer_V2'>"
      ]
     },
     "execution_count": 198,
     "metadata": {},
     "output_type": "execute_result"
    }
   ],
   "source": [
    "# classify swing and non swing counties\n",
    "\n",
    "arcpy.AddField_management(\"county_layer_V2\", \"Swing\", \"SHORT\")\n",
    "arcpy.CalculateField_management(\n",
    "    \"county_layer_V2\", \n",
    "    \"Swing\", \n",
    "    \"1 if !Vote_Marg! <= 500 else 0\", \n",
    "    \"PYTHON3\"\n",
    ")"
   ]
  },
  {
   "cell_type": "code",
   "execution_count": 206,
   "metadata": {
    "scrolled": true
   },
   "outputs": [
    {
     "data": {
      "text/html": [
       "<div class='gpresult'><h2>Messages</h2><div id='messages'>Start Time: Thursday, September 26, 2024 11:55:45 AM<br>Succeeded at Thursday, September 26, 2024 11:55:47 AM (Elapsed Time: 2.34 seconds)<br></div><div id = 'default' /></div></div>"
      ],
      "text/plain": [
       "<Result 'county_layer_V2'>"
      ]
     },
     "execution_count": 206,
     "metadata": {},
     "output_type": "execute_result"
    }
   ],
   "source": [
    "# Add a new field for total votes (Democratic + Republican)\n",
    "arcpy.AddField_management(\"county_layer_V2\", \"Tot_Vote\", \"DOUBLE\")\n",
    "\n",
    "# Calculate total votes\n",
    "arcpy.CalculateField_management(\n",
    "    \"county_layer_V2\", \n",
    "    \"Tot_Vote\", \n",
    "    \"(!d! or 0) + (!r! or 0)\", \n",
    "    \"PYTHON3\"\n",
    ")"
   ]
  },
  {
   "cell_type": "code",
   "execution_count": 200,
   "metadata": {},
   "outputs": [
    {
     "data": {
      "text/html": [
       "<div class='gpresult'><h2>Messages</h2><div id='messages'>Start Time: Wednesday, September 25, 2024 5:38:22 PM<br>Succeeded at Wednesday, September 25, 2024 5:38:25 PM (Elapsed Time: 2.97 seconds)<br></div><div id = 'default' /></div></div>"
      ],
      "text/plain": [
       "<Result 'county_layer_V2'>"
      ]
     },
     "execution_count": 200,
     "metadata": {},
     "output_type": "execute_result"
    }
   ],
   "source": [
    "# Add a new field for swinginess score\n",
    "arcpy.AddField_management(\"county_layer_V2\", \"Swinginess\", \"DOUBLE\")\n",
    "\n",
    "# Calculate swinginess score\n",
    "arcpy.CalculateField_management(\n",
    "    \"county_layer_V2\", \n",
    "    \"Swinginess\", \n",
    "    \"1 / ((abs(!d! - !r!) / (!d! + !r!)))\", \n",
    "    \"PYTHON3\"\n",
    ")"
   ]
  },
  {
   "cell_type": "code",
   "execution_count": 201,
   "metadata": {},
   "outputs": [],
   "source": [
    "\n",
    "# Reference the current map and layer\n",
    "aprx = arcpy.mp.ArcGISProject(\"CURRENT\")\n",
    "map_doc = aprx.activeMap \n",
    "county_layer = map_doc.listLayers(\"county_layer_V2\")[0]  \n",
    "\n",
    "# Apply graduated color symbology to the Swinginess field\n",
    "sym = county_layer.symbology\n",
    "sym.updateRenderer('GraduatedColorsRenderer') \n",
    "sym.renderer.classificationField = \"Swinginess\" \n",
    "sym.renderer.breakCount = 5  \n",
    "sym.renderer.colorRamp = aprx.listColorRamps(\"Reds (Continuous)\")[0]  \n",
    "\n",
    "# Update the symbology of the layer\n",
    "county_layer.symbology = sym"
   ]
  }
 ],
 "metadata": {
  "kernelspec": {
   "display_name": "ArcGISPro",
   "language": "Python",
   "name": "python3"
  },
  "language_info": {
   "file_extension": ".py",
   "name": "python",
   "version": "3"
  }
 },
 "nbformat": 4,
 "nbformat_minor": 2
}
